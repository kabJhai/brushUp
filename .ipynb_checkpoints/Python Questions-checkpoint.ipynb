{
 "cells": [
  {
   "cell_type": "markdown",
   "metadata": {},
   "source": [
    "# Basic Python Questions\n",
    "\n",
    "1. What is the difference between deep and shallow copy?\n",
    "\n",
    "Deep Copy:\n",
    "    It makes a reference to an object and the new object. And the new object that is pointed to some other objects gets stored. The changes made in the origional copy won't affect any other copy that uses the object.\n",
    "```Python \n",
    "import copy\n",
    "copy.deepcopy(object)\n",
    "```\n",
    "Shallow Copy:\n",
    "    Copy reference pointers. Allows for a faster execution of the program. Is used when a new instance gets created and it keeps the values that are copied in the new instance.\n",
    "```Python \n",
    "import copy\n",
    "copy.copy(object)\n",
    "```"
   ]
  },
  {
   "cell_type": "markdown",
   "metadata": {},
   "source": [
    "2. What is the difference between a list and a tuple?\n",
    "\n",
    "List:\n",
    "    Can be modified at runtime.\n",
    "    For stacks, queues and etc.\n",
    "```Python \n",
    "l1 = [1,2,4,6]\n",
    "```\n",
    "Tuple:\n",
    "    Can't be modified at runtime.\n",
    "    Fixed in ammount.\n",
    "    Memory intensive tasks\n",
    "```Python \n",
    "t1 = (1,3,5,7)\n",
    "```"
   ]
  },
  {
   "cell_type": "markdown",
   "metadata": {},
   "source": [
    "3. How Multithreading is achieved in Python?\n",
    "\n",
    "Python has a multi-threading package.\n",
    "Python has a construct called Global Interpreter Lock (GIL). To make sure that threads can execute at any one time. It adds more overhead to execution.\n",
    "\n",
    "```Python \n",
    "#To use multiple processors\n",
    "import multiprocessing\n",
    "\n",
    "#To use multiple threads\n",
    "import threading\n",
    "```"
   ]
  },
  {
   "cell_type": "markdown",
   "metadata": {},
   "source": [
    "4. Ternary operations in python"
   ]
  },
  {
   "cell_type": "code",
   "execution_count": 1,
   "metadata": {},
   "outputs": [
    {
     "data": {
      "text/plain": [
       "50"
      ]
     },
     "execution_count": 1,
     "metadata": {},
     "output_type": "execute_result"
    }
   ],
   "source": [
    "x,y = 23,50\n",
    "big = x if x > y else y \n",
    "big"
   ]
  },
  {
   "cell_type": "markdown",
   "metadata": {},
   "source": [
    "5. What is mokey patching in Python?\n",
    "\n",
    "Do dynamic modifications to an existing implementation of a class or a module.\n",
    "Used for quick fix."
   ]
  },
  {
   "cell_type": "code",
   "execution_count": 2,
   "metadata": {},
   "outputs": [
    {
     "name": "stdout",
     "output_type": "stream",
     "text": [
      "Not patched\n",
      "Patched\n"
     ]
    }
   ],
   "source": [
    "class OldOne:\n",
    "    def x(self):\n",
    "        print(\"Not patched\")\n",
    "def another_x():\n",
    "    print(\"Patched\")\n",
    "o = OldOne()\n",
    "o.x()\n",
    "#Prints Not patched\n",
    "#Patch the method\n",
    "o.x = another_x\n",
    "o.x()\n",
    "#Prints Patched"
   ]
  },
  {
   "cell_type": "markdown",
   "metadata": {},
   "source": [
    "6. How can you randomize the items of a list in place in Python?\n",
    "\n",
    "List elements can be randomized in place by using the shuffle method from the random package."
   ]
  },
  {
   "cell_type": "code",
   "execution_count": 3,
   "metadata": {},
   "outputs": [],
   "source": [
    "from random import shuffle\n",
    "l1 = [1,2,3,4,5,6]\n",
    "shuffle(l1)"
   ]
  },
  {
   "cell_type": "markdown",
   "metadata": {},
   "source": [
    "7. Write a sorting algorithm for a numerical dataset in Python"
   ]
  },
  {
   "cell_type": "code",
   "execution_count": 4,
   "metadata": {},
   "outputs": [
    {
     "data": {
      "text/plain": [
       "[132, 1312, 9435]"
      ]
     },
     "execution_count": 4,
     "metadata": {},
     "output_type": "execute_result"
    }
   ],
   "source": [
    "#First Way\n",
    "l1 = ['1312','132','9435']\n",
    "l1 = list(map(lambda x : int(x),l1))\n",
    "l1.sort()\n",
    "l1\n",
    "\n",
    "#Second way\n",
    "l1 = ['1312','132','9435']\n",
    "l1 = [int(i) for i in l1]\n",
    "l1.sort()\n",
    "l1\n"
   ]
  },
  {
   "cell_type": "markdown",
   "metadata": {},
   "source": [
    "8. ZIP and SORTED\n",
    "\n",
    "<em>zip</em>: is used to create a binded tuples in a list of items. For multiple lists or tuples with the same number of elements."
   ]
  },
  {
   "cell_type": "code",
   "execution_count": 5,
   "metadata": {},
   "outputs": [
    {
     "data": {
      "text/plain": [
       "{'a': 1, 'b': 2, 'c': 3}"
      ]
     },
     "execution_count": 5,
     "metadata": {},
     "output_type": "execute_result"
    }
   ],
   "source": [
    "a = ['a','b','c']\n",
    "b = (1,2,3)\n",
    "#d = [1,2,3]\n",
    "c = dict(zip(a,b))\n",
    "c"
   ]
  },
  {
   "cell_type": "code",
   "execution_count": 6,
   "metadata": {},
   "outputs": [
    {
     "data": {
      "text/plain": [
       "[3124556, 768542, 231356, 321]"
      ]
     },
     "execution_count": 6,
     "metadata": {},
     "output_type": "execute_result"
    }
   ],
   "source": [
    "a = [321,3124556,231356,768542]\n",
    "sorted(a,key = None,reverse = True)"
   ]
  },
  {
   "cell_type": "markdown",
   "metadata": {},
   "source": [
    " 9. Explain split(), sub(), subn() methods of the \"re\" module in Python\n",
    " \n",
    " split: Used to split splits the string into a list by using regex\n",
    " \n",
    " sub: Replaces substrings with a new string based on the regex.\n",
    " \n",
    " subn: Does the same as sub and it also returns the new string with the number of replacements."
   ]
  },
  {
   "cell_type": "code",
   "execution_count": 7,
   "metadata": {},
   "outputs": [
    {
     "name": "stdout",
     "output_type": "stream",
     "text": [
      "['Kabila', 'Haile', 'Soboka']\n",
      "('KZbilZ HZile SobokZ', 4)\n",
      "['Kabila', 'Haile', 'Soboka']\n"
     ]
    }
   ],
   "source": [
    "import re\n",
    "\n",
    "#Split example\n",
    "s = \"Kabila Haile Soboka\"\n",
    "\n",
    "n = re.split(\" \",s)\n",
    "print(n)\n",
    "\n",
    "n = re.subn(\"a\",\"Z\",s)\n",
    "print(n)\n",
    "\n",
    "s = s.split(\" \")\n",
    "print(s)"
   ]
  },
  {
   "cell_type": "markdown",
   "metadata": {},
   "source": [
    "10. Explaing inheritance and it's types\n",
    "\n",
    "Allows one class to gain all the members of another class. It helps to create a maintainable code. \n",
    "\n",
    "Types of inheritance supported in python\n",
    "10.1. Single Inheritance: When a derived class has single supper class\n",
    "\n",
    "10.2. Multi-level Inheritance: A derived class inherits from a base class which inherits from another class.\n",
    "\n",
    "10.3. Hierarchical Inheritance: A class can have multiple child classes.\n",
    "\n",
    "10.4. Multiple Inheritance: A derived class inherits from more than one supper class"
   ]
  }
 ],
 "metadata": {
  "kernelspec": {
   "display_name": "Python 3",
   "language": "python",
   "name": "python3"
  },
  "language_info": {
   "codemirror_mode": {
    "name": "ipython",
    "version": 3
   },
   "file_extension": ".py",
   "mimetype": "text/x-python",
   "name": "python",
   "nbconvert_exporter": "python",
   "pygments_lexer": "ipython3",
   "version": "3.6.6"
  }
 },
 "nbformat": 4,
 "nbformat_minor": 4
}
